{
 "cells": [
  {
   "cell_type": "markdown",
   "metadata": {
    "id": "K7S4cEyZLTp7"
   },
   "source": [
    "## Descriptive Statistics"
   ]
  },
  {
   "cell_type": "markdown",
   "metadata": {
    "id": "vZRYVyc8H7hi"
   },
   "source": [
    " Import **NumPy**, **SciPy**, and **Pandas**"
   ]
  },
  {
   "cell_type": "code",
   "execution_count": 11,
   "metadata": {
    "id": "7ShN0klrHIk3"
   },
   "outputs": [],
   "source": [
    "import numpy as np\n",
    "import scipy as sp\n",
    "import pandas as pd\n",
    "import seaborn as sns"
   ]
  },
  {
   "cell_type": "markdown",
   "metadata": {
    "id": "_SaQURIqIA6d"
   },
   "source": [
    " Randomly generate 1,000 samples from the normal distribution using `np.random.normal()`(mean = 100, standard deviation = 15)\n",
    "\n",
    "np.random.normal(loc=0.0, scale=1.0, size=None)  #you need to modify this code.\n",
    "\n",
    "loc will be equal to mean, scale will be equal to std deviation, size will be equal to sample size."
   ]
  },
  {
   "cell_type": "code",
   "execution_count": 12,
   "metadata": {
    "id": "Jyw_FMX0IRkm"
   },
   "outputs": [],
   "source": [
    "samples = np.random.normal(loc=100, scale=15, size=1000) #ortalaması 100 std. sapması 15 olan 1000 tane sayı"
   ]
  },
  {
   "cell_type": "markdown",
   "metadata": {
    "id": "CDF8m3a4IYOC"
   },
   "source": [
    "Compute the **mean**, **median**, and **mode**"
   ]
  },
  {
   "cell_type": "code",
   "execution_count": 13,
   "metadata": {
    "colab": {
     "base_uri": "https://localhost:8080/"
    },
    "id": "ZKbeqxaKIoNs",
    "outputId": "c39d0935-d9e4-4880-b4d9-3c2764a9cdaf"
   },
   "outputs": [
    {
     "name": "stdout",
     "output_type": "stream",
     "text": [
      "100.07794809882155\n",
      "99.9950974255288\n",
      "ModeResult(mode=array([53.86033814]), count=array([1]))\n"
     ]
    }
   ],
   "source": [
    "from scipy import stats\n",
    "mean = np.mean(samples)\n",
    "median = np.median(samples)\n",
    "mode = stats.mode(samples)\n",
    "print(mean, median, mode, sep = \"\\n\")"
   ]
  },
  {
   "cell_type": "markdown",
   "metadata": {
    "id": "skT8m39XI60w"
   },
   "source": [
    "Compute the **min**, **max**, **Q1**, **Q3**, and **interquartile range**"
   ]
  },
  {
   "cell_type": "code",
   "execution_count": 14,
   "metadata": {
    "colab": {
     "base_uri": "https://localhost:8080/"
    },
    "id": "VaiDphm8It0O",
    "outputId": "43e67672-ebac-4839-e4a4-0d199e93f649"
   },
   "outputs": [
    {
     "name": "stdout",
     "output_type": "stream",
     "text": [
      "53.86033814427085\n",
      "156.8517449201058\n",
      "89.88118624942815\n",
      "110.28161239665734\n",
      "20.400426147229183\n"
     ]
    }
   ],
   "source": [
    "min = np.min(samples)\n",
    "max = np.max(samples)\n",
    "q1 = np.percentile(samples, 25)\n",
    "q3 = np.percentile(samples, 75)\n",
    "iqr = stats.iqr(samples)\n",
    "#iqr = q3 - q1\n",
    "print(min, max, q1, q3, iqr, sep=\"\\n\")"
   ]
  },
  {
   "cell_type": "markdown",
   "metadata": {
    "id": "m53Dv3n5JHQi"
   },
   "source": [
    "Compute the **variance** and **standard deviation**"
   ]
  },
  {
   "cell_type": "code",
   "execution_count": 15,
   "metadata": {
    "colab": {
     "base_uri": "https://localhost:8080/"
    },
    "id": "6JFaAYdrJbeN",
    "outputId": "44e50188-e54c-4f62-f99a-b3e317fe12c8"
   },
   "outputs": [
    {
     "name": "stdout",
     "output_type": "stream",
     "text": [
      "223.72753043349297\n",
      "14.95752420801962\n"
     ]
    }
   ],
   "source": [
    "variance = np.var(samples)\n",
    "std_dev = np.std(samples)\n",
    "print(variance, std_dev, sep = \"\\n\")"
   ]
  },
  {
   "cell_type": "markdown",
   "metadata": {
    "id": "5eup4hI1JzqX"
   },
   "source": [
    "Compute the **skewness** and **kurtosis**\n",
    "\n",
    "You can use [`scipy.stats.skew`](https://docs.scipy.org/doc/scipy/reference/generated/scipy.stats.skew.html) and [`scipy.stats.kurtosis`](https://docs.scipy.org/doc/scipy/reference/generated/scipy.stats.kurtosis.html)"
   ]
  },
  {
   "cell_type": "code",
   "execution_count": 16,
   "metadata": {
    "colab": {
     "base_uri": "https://localhost:8080/"
    },
    "id": "YO3obyDnJ3_D",
    "outputId": "bd3ecc3d-7813-43e0-b7cd-e3e6390f0677"
   },
   "outputs": [
    {
     "name": "stdout",
     "output_type": "stream",
     "text": [
      "0.11196528315352502\n",
      "0.2022130661422401\n"
     ]
    }
   ],
   "source": [
    "skewness = stats.skew(samples)\n",
    "kurtosis = stats.kurtosis(samples)\n",
    "print(skewness, kurtosis, sep = \"\\n\")"
   ]
  },
  {
   "cell_type": "code",
   "execution_count": 17,
   "metadata": {},
   "outputs": [
    {
     "data": {
      "text/plain": [
       "<AxesSubplot:ylabel='Count'>"
      ]
     },
     "execution_count": 17,
     "metadata": {},
     "output_type": "execute_result"
    },
    {
     "data": {
      "image/png": "[encoded data removed]",
      "text/plain": [
       "<Figure size 432x288 with 1 Axes>"
      ]
     },
     "metadata": {
      "needs_background": "light"
     },
     "output_type": "display_data"
    }
   ],
   "source": [
    "sns.histplot(samples)"
   ]
  },
  {
   "cell_type": "markdown",
   "metadata": {
    "id": "a5UNc8PUKnbU"
   },
   "source": [
    "## NumPy Correlation Calculation"
   ]
  },
  {
   "cell_type": "markdown",
   "metadata": {
    "id": "cLiqxE1CMNTg"
   },
   "source": [
    "Create an array x of integers between 10 (inclusive) and 20 (exclusive). Use `np.arange()`"
   ]
  },
  {
   "cell_type": "code",
   "execution_count": 19,
   "metadata": {
    "colab": {
     "base_uri": "https://localhost:8080/"
    },
    "id": "5LAaQ6w5L-2L",
    "outputId": "07275cec-42dc-446a-b176-9ba038d6bb63"
   },
   "outputs": [
    {
     "name": "stdout",
     "output_type": "stream",
     "text": [
      "[10 11 12 13 14 15 16 17 18 19]\n"
     ]
    }
   ],
   "source": [
    "x = np.arange(10,20)\n",
    "print(x)"
   ]
  },
  {
   "cell_type": "markdown",
   "metadata": {
    "id": "qyCIaukNMZPf"
   },
   "source": [
    "Then use `np.array()` to create a second array y containing 10 arbitrary integers."
   ]
  },
  {
   "cell_type": "code",
   "execution_count": 20,
   "metadata": {
    "colab": {
     "base_uri": "https://localhost:8080/"
    },
    "id": "p27eW__gNMdh",
    "outputId": "c42c6fc7-bebe-43ee-8dba-05b4e0f12936"
   },
   "outputs": [
    {
     "name": "stdout",
     "output_type": "stream",
     "text": [
      "[ 1  5  7 11 13 14 14 17 20 25]\n"
     ]
    }
   ],
   "source": [
    "y = np.array([1, 5, 7, 11, 13, 14, 14, 17, 20, 25])\n",
    "print(y)"
   ]
  },
  {
   "cell_type": "markdown",
   "metadata": {
    "id": "Kh_VeKwINSqS"
   },
   "source": [
    "Once you have two arrays of the same length, you can compute the **correlation coefficient** between x and y"
   ]
  },
  {
   "cell_type": "code",
   "execution_count": 23,
   "metadata": {
    "colab": {
     "base_uri": "https://localhost:8080/"
    },
    "id": "yrtC6rPkNSDC",
    "outputId": "2ed0d9d1-3321-41cc-f480-eb9e2a259c60"
   },
   "outputs": [
    {
     "name": "stdout",
     "output_type": "stream",
     "text": [
      "[[1.         0.75864029]\n",
      " [0.75864029 1.        ]]\n"
     ]
    }
   ],
   "source": [
    "r = np.corrcoef(x, y) #İki değişkenin birnirlerine göre bağını ifade eder. \n",
    "                      #Biri artıyorsa diğeride artarsa pozitif korelasyon; bir artarken diğeri azalıyorsa negatif korelasyon \n",
    "print(r)"
   ]
  },
  {
   "cell_type": "markdown",
   "metadata": {
    "id": "vXieLjYiNtPi"
   },
   "source": [
    "## Pandas Correlation Calculation"
   ]
  },
  {
   "cell_type": "markdown",
   "metadata": {
    "id": "z56t0k0qNvkr"
   },
   "source": [
    "Run the code below"
   ]
  },
  {
   "cell_type": "code",
   "execution_count": 24,
   "metadata": {
    "id": "9AVBMJCyNuwb"
   },
   "outputs": [],
   "source": [
    "x = pd.Series(range(10, 20))\n",
    "y = pd.Series([2, 1, 4, 5, 8, 12, 18, 25, 96, 48])  #PAndasta seri üretmeye yarıyor"
   ]
  },
  {
   "cell_type": "markdown",
   "metadata": {
    "id": "ZajVXYe2OCih"
   },
   "source": [
    "Call the relevant method  to calculate Pearson's r correlation."
   ]
  },
  {
   "cell_type": "code",
   "execution_count": 12,
   "metadata": {
    "colab": {
     "base_uri": "https://localhost:8080/"
    },
    "id": "Ak_rkzbLOafj",
    "outputId": "ef0cae12-f6ce-44b9-d499-b7f3928425b8"
   },
   "outputs": [
    {
     "name": "stdout",
     "output_type": "stream",
     "text": [
      "(0.758640289091187, 0.010964341301680813)\n"
     ]
    }
   ],
   "source": [
    "r = stats.pearsonr(x,y) #parametrikse datamız yani bir dağılıma uyuyorsa kullanıyoruz\n",
    "                        #korelasyon değerini ve bu korelasyonun anlamlı lup olmadığının değerini veriyor\n",
    "                        # pozitif olduğu için biri artarken diğeri de artıyor\n",
    "print(r)"
   ]
  },
  {
   "cell_type": "markdown",
   "metadata": {
    "id": "1CygSbnROb9V"
   },
   "source": [
    "OPTIONAL. Call the relevant method to calculate Spearman's rho correlation."
   ]
  },
  {
   "cell_type": "code",
   "execution_count": 13,
   "metadata": {
    "colab": {
     "base_uri": "https://localhost:8080/"
    },
    "id": "xp_QkXwmOlYY",
    "outputId": "3455a123-cb03-45f2-df36-b93fa75c8f21"
   },
   "outputs": [
    {
     "name": "stdout",
     "output_type": "stream",
     "text": [
      "SpearmanrResult(correlation=0.9757575757575757, pvalue=1.4675461874042197e-06)\n"
     ]
    }
   ],
   "source": [
    "rho = stats.spearmanr(x,y) #nonparametrik hiçbir dağılıma uymuyorsa kullanılıyor\n",
    "print(rho)"
   ]
  },
  {
   "cell_type": "markdown",
   "metadata": {
    "id": "we7pg7kdOo7y"
   },
   "source": [
    "## Seaborn Dataset Tips"
   ]
  },
  {
   "cell_type": "markdown",
   "metadata": {
    "id": "VlzgFKN7OvqX"
   },
   "source": [
    "Import Seaborn Library"
   ]
  },
  {
   "cell_type": "code",
   "execution_count": 14,
   "metadata": {
    "id": "t-49JRRqO4pw"
   },
   "outputs": [],
   "source": [
    "import seaborn as sns"
   ]
  },
  {
   "cell_type": "markdown",
   "metadata": {
    "id": "0INVBB4tO4y4"
   },
   "source": [
    "Load \"tips\" dataset from Seaborn"
   ]
  },
  {
   "cell_type": "code",
   "execution_count": 28,
   "metadata": {
    "id": "kieLvcM1PBv7"
   },
   "outputs": [
    {
     "data": {
      "text/html": [
       "<div>\n",
       "<style scoped>\n",
       "    .dataframe tbody tr th:only-of-type {\n",
       "        vertical-align: middle;\n",
       "    }\n",
       "\n",
       "    .dataframe tbody tr th {\n",
       "        vertical-align: top;\n",
       "    }\n",
       "\n",
       "    .dataframe thead th {\n",
       "        text-align: right;\n",
       "    }\n",
       "</style>\n",
       "<table border=\"1\" class=\"dataframe\">\n",
       "  <thead>\n",
       "    <tr style=\"text-align: right;\">\n",
       "      <th></th>\n",
       "      <th>total_bill</th>\n",
       "      <th>tip</th>\n",
       "      <th>sex</th>\n",
       "      <th>smoker</th>\n",
       "      <th>day</th>\n",
       "      <th>time</th>\n",
       "      <th>size</th>\n",
       "    </tr>\n",
       "  </thead>\n",
       "  <tbody>\n",
       "    <tr>\n",
       "      <th>0</th>\n",
       "      <td>16.99</td>\n",
       "      <td>1.01</td>\n",
       "      <td>Female</td>\n",
       "      <td>No</td>\n",
       "      <td>Sun</td>\n",
       "      <td>Dinner</td>\n",
       "      <td>2</td>\n",
       "    </tr>\n",
       "    <tr>\n",
       "      <th>1</th>\n",
       "      <td>10.34</td>\n",
       "      <td>1.66</td>\n",
       "      <td>Male</td>\n",
       "      <td>No</td>\n",
       "      <td>Sun</td>\n",
       "      <td>Dinner</td>\n",
       "      <td>3</td>\n",
       "    </tr>\n",
       "    <tr>\n",
       "      <th>2</th>\n",
       "      <td>21.01</td>\n",
       "      <td>3.50</td>\n",
       "      <td>Male</td>\n",
       "      <td>No</td>\n",
       "      <td>Sun</td>\n",
       "      <td>Dinner</td>\n",
       "      <td>3</td>\n",
       "    </tr>\n",
       "    <tr>\n",
       "      <th>3</th>\n",
       "      <td>23.68</td>\n",
       "      <td>3.31</td>\n",
       "      <td>Male</td>\n",
       "      <td>No</td>\n",
       "      <td>Sun</td>\n",
       "      <td>Dinner</td>\n",
       "      <td>2</td>\n",
       "    </tr>\n",
       "    <tr>\n",
       "      <th>4</th>\n",
       "      <td>24.59</td>\n",
       "      <td>3.61</td>\n",
       "      <td>Female</td>\n",
       "      <td>No</td>\n",
       "      <td>Sun</td>\n",
       "      <td>Dinner</td>\n",
       "      <td>4</td>\n",
       "    </tr>\n",
       "  </tbody>\n",
       "</table>\n",
       "</div>"
      ],
      "text/plain": [
       "   total_bill   tip     sex smoker  day    time  size\n",
       "0       16.99  1.01  Female     No  Sun  Dinner     2\n",
       "1       10.34  1.66    Male     No  Sun  Dinner     3\n",
       "2       21.01  3.50    Male     No  Sun  Dinner     3\n",
       "3       23.68  3.31    Male     No  Sun  Dinner     2\n",
       "4       24.59  3.61  Female     No  Sun  Dinner     4"
      ]
     },
     "execution_count": 28,
     "metadata": {},
     "output_type": "execute_result"
    }
   ],
   "source": [
    "tips = sns.load_dataset(\"tips\")\n",
    "tips.head()"
   ]
  },
  {
   "cell_type": "code",
   "execution_count": 29,
   "metadata": {},
   "outputs": [
    {
     "data": {
      "text/plain": [
       "<AxesSubplot:xlabel='day', ylabel='count'>"
      ]
     },
     "execution_count": 29,
     "metadata": {},
     "output_type": "execute_result"
    },
    {
     "data": {
      "image/png": "[encoded data removed]",
      "text/plain": [
       "<Figure size 432x288 with 1 Axes>"
      ]
     },
     "metadata": {
      "needs_background": "light"
     },
     "output_type": "display_data"
    }
   ],
   "source": [
    "sns.countplot(x = \"day\", data = tips )"
   ]
  },
  {
   "cell_type": "markdown",
   "metadata": {
    "id": "o2ISqVQrPh5S"
   },
   "source": [
    "Generate descriptive statistics include those that summarize the central tendency, dispersion"
   ]
  },
  {
   "cell_type": "code",
   "execution_count": 26,
   "metadata": {
    "colab": {
     "base_uri": "https://localhost:8080/",
     "height": 206
    },
    "id": "FyFvmdbJPVg6",
    "outputId": "1fcc62a0-050a-4c4f-cd30-f843679e4fbb"
   },
   "outputs": [
    {
     "data": {
      "text/html": [
       "<div>\n",
       "<style scoped>\n",
       "    .dataframe tbody tr th:only-of-type {\n",
       "        vertical-align: middle;\n",
       "    }\n",
       "\n",
       "    .dataframe tbody tr th {\n",
       "        vertical-align: top;\n",
       "    }\n",
       "\n",
       "    .dataframe thead th {\n",
       "        text-align: right;\n",
       "    }\n",
       "</style>\n",
       "<table border=\"1\" class=\"dataframe\">\n",
       "  <thead>\n",
       "    <tr style=\"text-align: right;\">\n",
       "      <th></th>\n",
       "      <th>total_bill</th>\n",
       "      <th>tip</th>\n",
       "      <th>size</th>\n",
       "    </tr>\n",
       "  </thead>\n",
       "  <tbody>\n",
       "    <tr>\n",
       "      <th>count</th>\n",
       "      <td>244.000000</td>\n",
       "      <td>244.000000</td>\n",
       "      <td>244.000000</td>\n",
       "    </tr>\n",
       "    <tr>\n",
       "      <th>mean</th>\n",
       "      <td>19.785943</td>\n",
       "      <td>2.998279</td>\n",
       "      <td>2.569672</td>\n",
       "    </tr>\n",
       "    <tr>\n",
       "      <th>std</th>\n",
       "      <td>8.902412</td>\n",
       "      <td>1.383638</td>\n",
       "      <td>0.951100</td>\n",
       "    </tr>\n",
       "    <tr>\n",
       "      <th>min</th>\n",
       "      <td>3.070000</td>\n",
       "      <td>1.000000</td>\n",
       "      <td>1.000000</td>\n",
       "    </tr>\n",
       "    <tr>\n",
       "      <th>25%</th>\n",
       "      <td>13.347500</td>\n",
       "      <td>2.000000</td>\n",
       "      <td>2.000000</td>\n",
       "    </tr>\n",
       "    <tr>\n",
       "      <th>50%</th>\n",
       "      <td>17.795000</td>\n",
       "      <td>2.900000</td>\n",
       "      <td>2.000000</td>\n",
       "    </tr>\n",
       "    <tr>\n",
       "      <th>75%</th>\n",
       "      <td>24.127500</td>\n",
       "      <td>3.562500</td>\n",
       "      <td>3.000000</td>\n",
       "    </tr>\n",
       "    <tr>\n",
       "      <th>max</th>\n",
       "      <td>50.810000</td>\n",
       "      <td>10.000000</td>\n",
       "      <td>6.000000</td>\n",
       "    </tr>\n",
       "  </tbody>\n",
       "</table>\n",
       "</div>"
      ],
      "text/plain": [
       "       total_bill         tip        size\n",
       "count  244.000000  244.000000  244.000000\n",
       "mean    19.785943    2.998279    2.569672\n",
       "std      8.902412    1.383638    0.951100\n",
       "min      3.070000    1.000000    1.000000\n",
       "25%     13.347500    2.000000    2.000000\n",
       "50%     17.795000    2.900000    2.000000\n",
       "75%     24.127500    3.562500    3.000000\n",
       "max     50.810000   10.000000    6.000000"
      ]
     },
     "execution_count": 26,
     "metadata": {},
     "output_type": "execute_result"
    }
   ],
   "source": [
    "tips.describe()"
   ]
  },
  {
   "cell_type": "code",
   "execution_count": 17,
   "metadata": {
    "colab": {
     "base_uri": "https://localhost:8080/"
    },
    "id": "YIJVvDR5fhOa",
    "outputId": "2006f4d8-ab3a-4f3a-a35c-c6bc028594b7"
   },
   "outputs": [
    {
     "name": "stdout",
     "output_type": "stream",
     "text": [
      "19.78594262295082\n",
      "2.99827868852459\n",
      "1708.0\n"
     ]
    }
   ],
   "source": [
    "mean_total_bill = np.mean(tips.total_bill)\n",
    "mean_tip = np.mean(tips.tip)\n",
    "mean_size = np.mean(tips.size)\n",
    "print(mean_total_bill)\n",
    "print(mean_tip)\n",
    "print(mean_size)"
   ]
  },
  {
   "cell_type": "code",
   "execution_count": 18,
   "metadata": {
    "colab": {
     "base_uri": "https://localhost:8080/"
    },
    "id": "DRDEzgJfgqFL",
    "outputId": "5c89fedb-713d-4865-d479-0c5f97504c8a"
   },
   "outputs": [
    {
     "name": "stdout",
     "output_type": "stream",
     "text": [
      "17.795\n",
      "2.9\n",
      "1708.0\n"
     ]
    }
   ],
   "source": [
    "median_total_bill = np.median(tips.total_bill)\n",
    "median_tip = np.median(tips.tip)\n",
    "median_size = np.median(tips.size)\n",
    "print(median_total_bill)\n",
    "print(median_tip)\n",
    "print(median_size)"
   ]
  },
  {
   "cell_type": "code",
   "execution_count": 19,
   "metadata": {
    "colab": {
     "base_uri": "https://localhost:8080/"
    },
    "id": "z6ynYmCAg7O1",
    "outputId": "64aebef9-c450-4d50-aab6-5b5081534b01"
   },
   "outputs": [
    {
     "name": "stdout",
     "output_type": "stream",
     "text": [
      "ModeResult(mode=array([13.42]), count=array([3]))\n",
      "ModeResult(mode=array([2.]), count=array([33]))\n",
      "ModeResult(mode=array([1708]), count=array([1]))\n"
     ]
    }
   ],
   "source": [
    "mode_total_bill = stats.mode(tips.total_bill)\n",
    "mode_tip = stats.mode(tips.tip)\n",
    "mode_size = stats.mode(tips.size)\n",
    "print(mode_total_bill)\n",
    "print(mode_tip)\n",
    "print(mode_size)"
   ]
  },
  {
   "cell_type": "code",
   "execution_count": 20,
   "metadata": {
    "colab": {
     "base_uri": "https://localhost:8080/"
    },
    "id": "qPB180C_heC3",
    "outputId": "7ca57063-2986-47d1-d7b6-9b4c2ed69800"
   },
   "outputs": [
    {
     "name": "stdout",
     "output_type": "stream",
     "text": [
      "8.884150577771132\n",
      "8.884150577771132\n",
      "0.0\n"
     ]
    }
   ],
   "source": [
    "std_total_bill = np.std(tips.total_bill)\n",
    "std_tip = np.std(tips.total_bill)\n",
    "std_size = np.std(tips.size)\n",
    "print(std_total_bill)\n",
    "print(std_tip)\n",
    "print(std_size)"
   ]
  },
  {
   "cell_type": "code",
   "execution_count": 21,
   "metadata": {
    "colab": {
     "base_uri": "https://localhost:8080/"
    },
    "id": "nJQiKyAbizVz",
    "outputId": "2aab3059-5ad6-4168-c1d7-fed675dc5418"
   },
   "outputs": [
    {
     "name": "stdout",
     "output_type": "stream",
     "text": [
      "78.92813148851114\n",
      "1.9066085124966412\n",
      "0.0\n"
     ]
    }
   ],
   "source": [
    "var_total_bill = np.var(tips.total_bill)\n",
    "var_tip = np.var(tips.tip)\n",
    "var_size = np.var(tips.size)\n",
    "print(var_total_bill)\n",
    "print(var_tip)\n",
    "print(var_size)"
   ]
  },
  {
   "cell_type": "code",
   "execution_count": 22,
   "metadata": {
    "colab": {
     "base_uri": "https://localhost:8080/"
    },
    "id": "SGGmZgDMjSrS",
    "outputId": "65e42d54-f8c0-4f84-8582-fd215afb5584"
   },
   "outputs": [
    {
     "name": "stdout",
     "output_type": "stream",
     "text": [
      "47.74\n",
      "9.0\n",
      "0\n"
     ]
    }
   ],
   "source": [
    "min_total_bill = np.min(tips.total_bill)\n",
    "max_total_bill =np.max(tips.total_bill)\n",
    "range_total_bill = (max_total_bill) - (min_total_bill)\n",
    "print(range_total_bill)\n",
    "\n",
    "min_tip = np.min(tips.tip)\n",
    "max_tip =np.max(tips.tip)\n",
    "range_tip = (max_tip) - (min_tip)\n",
    "print(range_tip)\n",
    "\n",
    "min_size = np.min(tips.size)\n",
    "max_size = np.max(tips.size)\n",
    "range_size = (max_size) - (min_size)\n",
    "print(range_size)\n"
   ]
  },
  {
   "cell_type": "markdown",
   "metadata": {
    "id": "DqegmTMWmFaP"
   },
   "source": [
    "Call the relevant method to calculate pairwise Pearson's r correlation of columns\n",
    "\n"
   ]
  },
  {
   "cell_type": "code",
   "execution_count": 30,
   "metadata": {
    "colab": {
     "base_uri": "https://localhost:8080/"
    },
    "id": "ZnuvkNprmJuC",
    "outputId": "cb484a3a-7e62-4d4f-aa73-eea9b8c82dfe"
   },
   "outputs": [
    {
     "name": "stdout",
     "output_type": "stream",
     "text": [
      "(0.6757341092113642, 6.6924706468640476e-34)\n",
      "[[1.         0.67573411]\n",
      " [0.67573411 1.        ]]\n"
     ]
    }
   ],
   "source": [
    "x = tips.total_bill\n",
    "y = tips.tip\n",
    "r = stats.pearsonr(x,y)\n",
    "print(r)\n",
    "t = np.corrcoef(x, y)\n",
    "print(t)"
   ]
  }
 ],
 "metadata": {
  "colab": {
   "collapsed_sections": [],
   "name": "Stats Assign. (Central Tendency& Dispersion).ipynb adlı not defterinin kopyası",
   "provenance": []
  },
  "kernelspec": {
   "display_name": "Python 3 (ipykernel)",
   "language": "python",
   "name": "python3"
  },
  "language_info": {
   "codemirror_mode": {
    "name": "ipython",
    "version": 3
   },
   "file_extension": ".py",
   "mimetype": "text/x-python",
   "name": "python",
   "nbconvert_exporter": "python",
   "pygments_lexer": "ipython3",
   "version": "3.9.7"
  }
 },
 "nbformat": 4,
 "nbformat_minor": 1
}
