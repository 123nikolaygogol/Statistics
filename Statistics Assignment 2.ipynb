{
 "cells": [
  {
   "cell_type": "code",
   "execution_count": 1,
   "id": "3433668d",
   "metadata": {},
   "outputs": [],
   "source": [
    "import pandas as pd\n",
    "import scipy.stats as stats\n",
    "import math"
   ]
  },
  {
   "cell_type": "markdown",
   "id": "f657f238",
   "metadata": {},
   "source": [
    "EXERCISE 1. \n",
    "Suppose scores on exams in statistics are normally distributed with an unknown population mean and a population standard deviation of 3 points. A random sample of 36 scores is taken and gives a sample mean (sample  mean score) of 68. Find a confidence interval estimate for the population mean exam score (the mean score on all exams).\n",
    "Find a 90% confidence interval for the true (population) mean of statistics exam scores. "
   ]
  },
  {
   "cell_type": "code",
   "execution_count": null,
   "id": "7a98f542",
   "metadata": {},
   "outputs": [],
   "source": [
    "standart deviation of population = 3\n",
    "varyans = 9\n",
    "population mean = unknown\n",
    "sample size = 36\n",
    "sample mean = 68\n",
    "confidence interval = 90% (significant level = 10%)\n",
    "alfa = 0.10 (z0.05 = 1,645) z-table"
   ]
  },
  {
   "cell_type": "code",
   "execution_count": 3,
   "id": "73adbc66",
   "metadata": {},
   "outputs": [],
   "source": [
    "n = 36\n",
    "xbar = 68\n",
    "stand = 3"
   ]
  },
  {
   "cell_type": "code",
   "execution_count": 4,
   "id": "b41e3c5b",
   "metadata": {},
   "outputs": [
    {
     "data": {
      "text/plain": [
       "0.5"
      ]
     },
     "execution_count": 4,
     "metadata": {},
     "output_type": "execute_result"
    }
   ],
   "source": [
    "sem = stand/math.sqrt(36)\n",
    "sem\n",
    "#standart error of the mean"
   ]
  },
  {
   "cell_type": "code",
   "execution_count": 5,
   "id": "59e175a1",
   "metadata": {},
   "outputs": [
    {
     "data": {
      "text/plain": [
       "0.8225"
      ]
     },
     "execution_count": 5,
     "metadata": {},
     "output_type": "execute_result"
    }
   ],
   "source": [
    "err = 1.645*sem\n",
    "err"
   ]
  },
  {
   "cell_type": "code",
   "execution_count": 6,
   "id": "f7c38b94",
   "metadata": {},
   "outputs": [
    {
     "data": {
      "text/plain": [
       "67.1775"
      ]
     },
     "execution_count": 6,
     "metadata": {},
     "output_type": "execute_result"
    }
   ],
   "source": [
    "lower_lim = xbar - err\n",
    "lower_lim"
   ]
  },
  {
   "cell_type": "markdown",
   "id": "8e5a6f2a",
   "metadata": {},
   "source": [
    "That is mean 90% of score of statistics exam is between 67.17 and 68.82. In other words, the values between 67.17 and 68.82 that you will be able to guess are true with 10% margin of error."
   ]
  },
  {
   "cell_type": "code",
   "execution_count": 7,
   "id": "07be5846",
   "metadata": {},
   "outputs": [
    {
     "data": {
      "text/plain": [
       "(67.17757318652427, 68.82242681347573)"
      ]
     },
     "execution_count": 7,
     "metadata": {},
     "output_type": "execute_result"
    }
   ],
   "source": [
    "#short way\n",
    "stats.norm.interval(0.90, loc = xbar, scale = sem)"
   ]
  },
  {
   "cell_type": "code",
   "execution_count": 8,
   "id": "3525fe87",
   "metadata": {},
   "outputs": [
    {
     "data": {
      "text/plain": [
       "(67.15521377301812, 68.84478622698188)"
      ]
     },
     "execution_count": 8,
     "metadata": {},
     "output_type": "execute_result"
    }
   ],
   "source": [
    "stats.t.interval(0.90, df = n-1, loc = xbar, scale = sem)"
   ]
  },
  {
   "cell_type": "markdown",
   "id": "52a94712",
   "metadata": {},
   "source": [
    "EXERCISE 2. \n",
    "What is the normal body temperature for healthy humans? A random sample of 130 healthy human body temperatures provided by Allen Shoemaker7 yielded 98.25 degrees and standard deviation 0.73 degrees. \n",
    "Give a 99% confidence interval for the average body temperature of healthy people."
   ]
  },
  {
   "cell_type": "markdown",
   "id": "15386bde",
   "metadata": {},
   "source": [
    "That is mean 99% bady temparature of healty people is between 98.085 and 98.414 . In other words, the values between 98.085 and 98.414 that you will be able to guess are true with 1% margin of error."
   ]
  },
  {
   "cell_type": "code",
   "execution_count": 15,
   "id": "7d64f60c",
   "metadata": {},
   "outputs": [],
   "source": [
    "n = 130\n",
    "xbar = 98.25\n",
    "#sample standart deviation \n",
    "stand = 0.73"
   ]
  },
  {
   "cell_type": "code",
   "execution_count": 17,
   "id": "67b5c8c6",
   "metadata": {},
   "outputs": [
    {
     "data": {
      "text/plain": [
       "0.06402523540941313"
      ]
     },
     "execution_count": 17,
     "metadata": {},
     "output_type": "execute_result"
    }
   ],
   "source": [
    "sem = stand/math.sqrt(130)\n",
    "sem"
   ]
  },
  {
   "cell_type": "code",
   "execution_count": 18,
   "id": "fe97b741",
   "metadata": {},
   "outputs": [
    {
     "data": {
      "text/plain": [
       "(98.08508192246582, 98.41491807753418)"
      ]
     },
     "execution_count": 18,
     "metadata": {},
     "output_type": "execute_result"
    }
   ],
   "source": [
    "stats.norm.interval(0.99, loc = xbar, scale = sem)"
   ]
  },
  {
   "cell_type": "markdown",
   "id": "46e4827c",
   "metadata": {},
   "source": [
    "EXERCISE 3. \n",
    "The administrators for a hospital wished to estimate the average number of days required for inpatient treatment of patients between the ages of 25 and 34. A random sample of 500 hospital patients between these ages produced a mean and standard deviation equal to 5.4 and 3.1 days, respectively.\n",
    "Construct a 95% confidence interval for the mean length of stay for the population of patients from which the sample was drawn."
   ]
  },
  {
   "cell_type": "markdown",
   "id": "727d4bae",
   "metadata": {},
   "source": [
    "That is mean 95% length of stay for the population of patients is between 5.1282 and 5.6717 . In other words, the values between 5.1282 and 5.6717 that you will be able to guess are true with 5% margin of error."
   ]
  },
  {
   "cell_type": "code",
   "execution_count": 20,
   "id": "a0abec7d",
   "metadata": {},
   "outputs": [],
   "source": [
    "n = 500\n",
    "xbar = 5.4\n",
    "stand = 3.1"
   ]
  },
  {
   "cell_type": "code",
   "execution_count": 21,
   "id": "7427182b",
   "metadata": {},
   "outputs": [
    {
     "data": {
      "text/plain": [
       "0.13863621460498696"
      ]
     },
     "execution_count": 21,
     "metadata": {},
     "output_type": "execute_result"
    }
   ],
   "source": [
    "sem = stand/math.sqrt(500)\n",
    "sem"
   ]
  },
  {
   "cell_type": "code",
   "execution_count": 22,
   "id": "a66732ea",
   "metadata": {},
   "outputs": [
    {
     "data": {
      "text/plain": [
       "(5.12827801242126, 5.67172198757874)"
      ]
     },
     "execution_count": 22,
     "metadata": {},
     "output_type": "execute_result"
    }
   ],
   "source": [
    "stats.norm.interval(0.95, loc = xbar, scale = sem)"
   ]
  }
 ],
 "metadata": {
  "kernelspec": {
   "display_name": "Python 3 (ipykernel)",
   "language": "python",
   "name": "python3"
  },
  "language_info": {
   "codemirror_mode": {
    "name": "ipython",
    "version": 3
   },
   "file_extension": ".py",
   "mimetype": "text/x-python",
   "name": "python",
   "nbconvert_exporter": "python",
   "pygments_lexer": "ipython3",
   "version": "3.9.7"
  }
 },
 "nbformat": 4,
 "nbformat_minor": 5
}
